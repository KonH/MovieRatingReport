{
 "cells": [
  {
   "cell_type": "code",
   "execution_count": 1,
   "id": "13263802",
   "metadata": {},
   "outputs": [
    {
     "name": "stdout",
     "output_type": "stream",
     "text": [
      "Requirement already satisfied: pandas in c:\\users\\konh\\appdata\\local\\packages\\pythonsoftwarefoundation.python.3.10_qbz5n2kfra8p0\\localcache\\local-packages\\python310\\site-packages (1.5.3)\n",
      "Requirement already satisfied: numpy>=1.21.0 in c:\\users\\konh\\appdata\\local\\packages\\pythonsoftwarefoundation.python.3.10_qbz5n2kfra8p0\\localcache\\local-packages\\python310\\site-packages (from pandas) (1.24.2)\n",
      "Requirement already satisfied: python-dateutil>=2.8.1 in c:\\users\\konh\\appdata\\local\\packages\\pythonsoftwarefoundation.python.3.10_qbz5n2kfra8p0\\localcache\\local-packages\\python310\\site-packages (from pandas) (2.8.2)\n",
      "Requirement already satisfied: pytz>=2020.1 in c:\\users\\konh\\appdata\\local\\packages\\pythonsoftwarefoundation.python.3.10_qbz5n2kfra8p0\\localcache\\local-packages\\python310\\site-packages (from pandas) (2022.7.1)\n",
      "Requirement already satisfied: six>=1.5 in c:\\users\\konh\\appdata\\local\\packages\\pythonsoftwarefoundation.python.3.10_qbz5n2kfra8p0\\localcache\\local-packages\\python310\\site-packages (from python-dateutil>=2.8.1->pandas) (1.16.0)\n"
     ]
    }
   ],
   "source": [
    "!pip install pandas"
   ]
  },
  {
   "cell_type": "code",
   "execution_count": 2,
   "id": "544ecd98",
   "metadata": {},
   "outputs": [
    {
     "data": {
      "text/markdown": [
       "\n",
       "**Movies**: 1000\n",
       "\n",
       "**Headers**:\n",
       "  1. Const\n",
       "  1. Your Rating\n",
       "  1. Date Rated\n",
       "  1. Title\n",
       "  1. URL\n",
       "  1. Title Type\n",
       "  1. IMDb Rating\n",
       "  1. Runtime (mins)\n",
       "  1. Year\n",
       "  1. Genres\n",
       "  1. Num Votes\n",
       "  1. Release Date\n",
       "  1. Directors"
      ],
      "text/plain": [
       "<IPython.core.display.Markdown object>"
      ]
     },
     "metadata": {},
     "output_type": "display_data"
    }
   ],
   "source": [
    "import pandas\n",
    "from IPython.display import display, Markdown\n",
    "\n",
    "class Writer:\n",
    "    def __init__(self):\n",
    "        self.out = ''\n",
    "\n",
    "    def add(self, str):\n",
    "        self.out = f'{self.out}\\n{str}'\n",
    "        \n",
    "    def add_header(self, str):\n",
    "        self.add(f'**{str}**:')\n",
    "        \n",
    "    def add_unordered_item(self, str):\n",
    "        self.add(f'  - {str}')\n",
    "        \n",
    "    def add_ordered_item(self, str):\n",
    "        self.add(f'  1. {str}')\n",
    "    \n",
    "    def add_single(self, name, value):\n",
    "        self.add(f'**{name}**: {value}')\n",
    "        self.add('')\n",
    "    \n",
    "    def write(self):\n",
    "        display(Markdown(self.out))\n",
    "\n",
    "data = pandas.read_csv(\"ratings.csv\")\n",
    "count = len(data)\n",
    "\n",
    "w = Writer()\n",
    "w.add_single('Movies', count)\n",
    "w.add_header('Headers')\n",
    "for row in data.columns:\n",
    "    w.add_ordered_item(row)\n",
    "w.write()"
   ]
  },
  {
   "cell_type": "code",
   "execution_count": 3,
   "id": "8a8a058a",
   "metadata": {},
   "outputs": [
    {
     "data": {
      "text/markdown": [
       "\n",
       "**Period**: 2009 - 2023 (13.86 years)\n",
       "\n",
       "**Ratings / year**: 72.15\n"
      ],
      "text/plain": [
       "<IPython.core.display.Markdown object>"
      ]
     },
     "metadata": {},
     "output_type": "display_data"
    }
   ],
   "source": [
    "import dateutil.parser\n",
    "\n",
    "start_date = dateutil.parser.parse(data['Date Rated'].min())\n",
    "end_date = dateutil.parser.parse(data['Date Rated'].max())\n",
    "interval = end_date - start_date\n",
    "years = round(interval.days / 365, 2)\n",
    "period = f'{start_date.year} - {end_date.year} ({years} years)'\n",
    "ratings_per_year = round(count / years, 2)\n",
    "\n",
    "w = Writer()\n",
    "w.add_single('Period', period)\n",
    "w.add_single('Ratings / year', ratings_per_year)\n",
    "w.write()"
   ]
  },
  {
   "cell_type": "code",
   "execution_count": 31,
   "id": "56c2cf8f",
   "metadata": {},
   "outputs": [
    {
     "data": {
      "text/markdown": [
       "\n",
       "**Top casual movies** (higher iMDB rating & my rating):\n",
       "  1. **The Godfather** (1972, iMDB = 9.2, me = 10)\n",
       "  1. **The Lord of the Rings: The Return of the King** (2003, iMDB = 9.0, me = 10)\n",
       "  1. **The Dark Knight** (2008, iMDB = 9.0, me = 10)\n",
       "  1. **Pulp Fiction** (1994, iMDB = 8.9, me = 10)\n",
       "  1. **Inception** (2010, iMDB = 8.8, me = 10)\n",
       "\n",
       "**Top trash movies** (lower iMDB rating but higher my rating):\n",
       "  1. **The Midnight Meat Train** (2008, iMDB = 6.0, me = 10)\n",
       "  1. **Six-String Samurai** (1998, iMDB = 6.4, me = 10)\n",
       "  1. **C.S.A.: The Confederate States of America** (2004, iMDB = 6.4, me = 10)\n",
       "  1. **Silent Hill** (2006, iMDB = 6.5, me = 10)\n",
       "  1. **Terminator Salvation** (2009, iMDB = 6.5, me = 10)\n"
      ],
      "text/plain": [
       "<IPython.core.display.Markdown object>"
      ]
     },
     "metadata": {},
     "output_type": "display_data"
    }
   ],
   "source": [
    "title_index = data.columns.get_loc('Title')\n",
    "release_date_index = data.columns.get_loc('Release Date')\n",
    "date_rated_index = data.columns.get_loc('Date Rated')\n",
    "your_rating_index = data.columns.get_loc('Your Rating')\n",
    "imdb_rating_index = data.columns.get_loc('IMDb Rating')\n",
    "runtime_index = data.columns.get_loc('Runtime (mins)')\n",
    "genres_index = data.columns.get_loc('Genres')\n",
    "directors_index = data.columns.get_loc('Directors')\n",
    "\n",
    "top_casual_movies = data.sort_values(['Your Rating', 'IMDb Rating'], ascending=False).head(5).values\n",
    "\n",
    "w = Writer()\n",
    "w.add('**Top casual movies** (higher iMDB rating & my rating):')\n",
    "for row in top_casual_movies:\n",
    "    year = dateutil.parser.parse(row[release_date_index]).year\n",
    "    imdb = row[imdb_rating_index]\n",
    "    my_rating = row[your_rating_index]\n",
    "    w.add_ordered_item(f'**{row[title_index]}** ({year}, iMDB = {imdb}, me = {my_rating})')\n",
    "w.add('')\n",
    "\n",
    "top_trash_movies = data.sort_values(['Your Rating', 'IMDb Rating'], ascending=[False, True]).head(5).values\n",
    "\n",
    "w.add('**Top trash movies** (lower iMDB rating but higher my rating):')\n",
    "for row in top_trash_movies:\n",
    "    year = dateutil.parser.parse(row[release_date_index]).year\n",
    "    imdb = row[imdb_rating_index]\n",
    "    my_rating = row[your_rating_index]\n",
    "    w.add_ordered_item(f'**{row[title_index]}** ({year}, iMDB = {imdb}, me = {my_rating})')\n",
    "w.add('')\n",
    "\n",
    "w.write()"
   ]
  },
  {
   "cell_type": "code",
   "execution_count": 5,
   "id": "8a728240",
   "metadata": {},
   "outputs": [
    {
     "data": {
      "text/markdown": [
       "\n",
       "**My overrated movies** (my rating > iMDB rating):\n",
       "  1. **The Midnight Meat Train** (2008, iMDB = 6.0, me = 10)\n",
       "  1. **C.S.A.: The Confederate States of America** (2004, iMDB = 6.4, me = 10)\n",
       "  1. **Six-String Samurai** (1998, iMDB = 6.4, me = 10)\n",
       "  1. **Silent Hill** (2006, iMDB = 6.5, me = 10)\n",
       "  1. **Terminator Salvation** (2009, iMDB = 6.5, me = 10)\n",
       "\n",
       "**My underrated movies** (my rating < iMDB rating):\n",
       "  1. **Patch Adams** (1998, iMDB = 6.8, me = 1)\n",
       "  1. **Zhit** (2012, iMDB = 7.2, me = 2)\n",
       "  1. **The Hunger Games** (2012, iMDB = 7.2, me = 2)\n",
       "  1. **Dredd** (2012, iMDB = 7.1, me = 2)\n",
       "  1. **Stalag 17** (1953, iMDB = 8.0, me = 3)\n"
      ],
      "text/plain": [
       "<IPython.core.display.Markdown object>"
      ]
     },
     "metadata": {},
     "output_type": "display_data"
    }
   ],
   "source": [
    "data['rating_diff'] = data.apply (lambda row: row[your_rating_index] - row[imdb_rating_index], axis=1)\n",
    "my_overrated_movies = data.sort_values('rating_diff', ascending=False).head(5).values\n",
    "\n",
    "w = Writer()\n",
    "w.add('**My overrated movies** (my rating > iMDB rating):')\n",
    "for row in my_overrated_movies:\n",
    "    year = dateutil.parser.parse(row[release_date_index]).year\n",
    "    imdb = row[imdb_rating_index]\n",
    "    my_rating = row[your_rating_index]\n",
    "    w.add_ordered_item(f'**{row[title_index]}** ({year}, iMDB = {imdb}, me = {my_rating})')\n",
    "w.add('')\n",
    "\n",
    "my_underrated_movies = data.sort_values('rating_diff', ascending=True).head(5).values\n",
    "\n",
    "w.add('**My underrated movies** (my rating < iMDB rating):')\n",
    "for row in my_underrated_movies:\n",
    "    year = dateutil.parser.parse(row[release_date_index]).year\n",
    "    imdb = row[imdb_rating_index]\n",
    "    my_rating = row[your_rating_index]\n",
    "    w.add_ordered_item(f'**{row[title_index]}** ({year}, iMDB = {imdb}, me = {my_rating})')\n",
    "w.add('')\n",
    "\n",
    "w.write()"
   ]
  },
  {
   "cell_type": "code",
   "execution_count": 6,
   "id": "a302e03c",
   "metadata": {},
   "outputs": [
    {
     "data": {
      "text/markdown": [
       "\n",
       "**Best in 1991**:\n",
       "  1. **The Silence of the Lambs** (iMDB = 8.6, me = 10)\n",
       "  1. **The Doors** (iMDB = 7.2, me = 8)\n",
       "  1. **Naked Lunch** (iMDB = 6.9, me = 7)\n",
       "  1. **The Resurrected** (iMDB = 6.2, me = 6)\n",
       "  1. **Highlander II: The Quickening** (iMDB = 4.2, me = 1)\n",
       "\n",
       "**Best in 2022**:\n",
       "  1. **Im Westen nichts Neues** (iMDB = 7.8, me = 9)\n",
       "  1. **Top Gun: Maverick** (iMDB = 8.3, me = 8)\n",
       "  1. **The Batman** (iMDB = 7.8, me = 8)\n",
       "  1. **The Unbearable Weight of Massive Talent** (iMDB = 7.0, me = 8)\n",
       "  1. **Doctor Strange in the Multiverse of Madness** (iMDB = 6.9, me = 8)\n",
       "  1. **Fantastic Beasts: The Secrets of Dumbledore** (iMDB = 6.2, me = 8)\n",
       "  1. **Crimes of the Future** (iMDB = 5.9, me = 8)\n",
       "  1. **Harry Potter 20th Anniversary: Return to Hogwarts** (iMDB = 8.0, me = 7)\n",
       "  1. **Everything Everywhere All at Once** (iMDB = 7.9, me = 7)\n",
       "  1. **Chip 'n Dale: Rescue Rangers** (iMDB = 7.0, me = 6)\n"
      ],
      "text/plain": [
       "<IPython.core.display.Markdown object>"
      ]
     },
     "metadata": {},
     "output_type": "display_data"
    }
   ],
   "source": [
    "data_in_1991 = data.copy()\n",
    "data_in_1991 = data_in_1991[data_in_1991['Year'] == 1991]\n",
    "best_in_1991 = data_in_1991.sort_values(['Your Rating', 'IMDb Rating'], ascending=False).head(10).values\n",
    "\n",
    "w = Writer()\n",
    "w.add_header('Best in 1991')\n",
    "for row in best_in_1991:\n",
    "    imdb = row[imdb_rating_index]\n",
    "    my_rating = row[your_rating_index]\n",
    "    w.add_ordered_item(f'**{row[title_index]}** (iMDB = {imdb}, me = {my_rating})')\n",
    "w.add('')\n",
    "\n",
    "data_in_2022 = data.copy()\n",
    "data_in_2022 = data_in_2022[data_in_2022['Year'] == 2022]\n",
    "best_in_2022 = data_in_2022.sort_values(['Your Rating', 'IMDb Rating'], ascending=False).head(10).values\n",
    "\n",
    "w.add_header('Best in 2022')\n",
    "for row in best_in_2022:\n",
    "    imdb = row[imdb_rating_index]\n",
    "    my_rating = row[your_rating_index]\n",
    "    w.add_ordered_item(f'**{row[title_index]}** (iMDB = {imdb}, me = {my_rating})')\n",
    "w.add('')\n",
    "\n",
    "w.write()"
   ]
  },
  {
   "cell_type": "code",
   "execution_count": 7,
   "id": "57d293e4",
   "metadata": {},
   "outputs": [
    {
     "data": {
      "text/markdown": [
       "\n",
       "**My longest movies**:\n",
       "  1. **Pantera: 3 Vulgar Videos from Hell** (1999, 4.08 hours, iMDB = 9.1, me = 7)\n",
       "  1. **Zack Snyder's Justice League** (2021, 4.03 hours, iMDB = 8.0, me = 9)\n",
       "  1. **Rush: Snakes & Arrows - Live in Holland** (2008, 3.68 hours, iMDB = 8.6, me = 9)\n",
       "  1. **Lawrence of Arabia** (1962, 3.63 hours, iMDB = 8.3, me = 8)\n",
       "  1. **The Godfather Part II** (1974, 3.37 hours, iMDB = 9.0, me = 8)"
      ],
      "text/plain": [
       "<IPython.core.display.Markdown object>"
      ]
     },
     "metadata": {},
     "output_type": "display_data"
    }
   ],
   "source": [
    "my_longest_movies = data.sort_values('Runtime (mins)', ascending=False).head(5).values\n",
    "\n",
    "w = Writer()\n",
    "w.add_header('My longest movies')\n",
    "for row in my_longest_movies:\n",
    "    year = dateutil.parser.parse(row[release_date_index]).year\n",
    "    hours = round(row[runtime_index] / 60, 2)\n",
    "    imdb = row[imdb_rating_index]\n",
    "    my_rating = row[your_rating_index]\n",
    "    w.add_ordered_item(f'**{row[title_index]}** ({year}, {hours} hours, iMDB = {imdb}, me = {my_rating})')\n",
    "\n",
    "w.write()"
   ]
  },
  {
   "cell_type": "code",
   "execution_count": 8,
   "id": "4f26e99c",
   "metadata": {},
   "outputs": [
    {
     "data": {
      "text/markdown": [
       "\n",
       "**My older movies**:\n",
       "  1. **Metropolis** (1927, iMDB = 8.3, me = 9)\n",
       "  1. **All Quiet on the Western Front** (1930, iMDB = 8.1, me = 8)\n",
       "  1. **Dracula** (1931, iMDB = 7.4, me = 7)\n",
       "  1. **M - Eine Stadt sucht einen Mörder** (1931, iMDB = 8.3, me = 9)\n",
       "  1. **Frankenstein** (1931, iMDB = 7.8, me = 6)"
      ],
      "text/plain": [
       "<IPython.core.display.Markdown object>"
      ]
     },
     "metadata": {},
     "output_type": "display_data"
    }
   ],
   "source": [
    "my_longest_movies = data.sort_values('Release Date', ascending=True).head(5).values\n",
    "\n",
    "w = Writer()\n",
    "w.add_header('My older movies')\n",
    "for row in my_longest_movies:\n",
    "    year = dateutil.parser.parse(row[release_date_index]).year\n",
    "    imdb = row[imdb_rating_index]\n",
    "    my_rating = row[your_rating_index]\n",
    "    w.add_ordered_item(f'**{row[title_index]}** ({year}, iMDB = {imdb}, me = {my_rating})')\n",
    "\n",
    "w.write()"
   ]
  },
  {
   "cell_type": "code",
   "execution_count": 9,
   "id": "8e3701ed",
   "metadata": {},
   "outputs": [
    {
     "name": "stdout",
     "output_type": "stream",
     "text": [
      "Requirement already satisfied: matplotlib in c:\\users\\konh\\appdata\\local\\packages\\pythonsoftwarefoundation.python.3.10_qbz5n2kfra8p0\\localcache\\local-packages\\python310\\site-packages (3.7.1)\n",
      "Requirement already satisfied: fonttools>=4.22.0 in c:\\users\\konh\\appdata\\local\\packages\\pythonsoftwarefoundation.python.3.10_qbz5n2kfra8p0\\localcache\\local-packages\\python310\\site-packages (from matplotlib) (4.39.2)\n",
      "Requirement already satisfied: packaging>=20.0 in c:\\users\\konh\\appdata\\local\\packages\\pythonsoftwarefoundation.python.3.10_qbz5n2kfra8p0\\localcache\\local-packages\\python310\\site-packages (from matplotlib) (23.0)\n",
      "Requirement already satisfied: python-dateutil>=2.7 in c:\\users\\konh\\appdata\\local\\packages\\pythonsoftwarefoundation.python.3.10_qbz5n2kfra8p0\\localcache\\local-packages\\python310\\site-packages (from matplotlib) (2.8.2)\n",
      "Requirement already satisfied: numpy>=1.20 in c:\\users\\konh\\appdata\\local\\packages\\pythonsoftwarefoundation.python.3.10_qbz5n2kfra8p0\\localcache\\local-packages\\python310\\site-packages (from matplotlib) (1.24.2)\n",
      "Requirement already satisfied: contourpy>=1.0.1 in c:\\users\\konh\\appdata\\local\\packages\\pythonsoftwarefoundation.python.3.10_qbz5n2kfra8p0\\localcache\\local-packages\\python310\\site-packages (from matplotlib) (1.0.7)\n",
      "Requirement already satisfied: pyparsing>=2.3.1 in c:\\users\\konh\\appdata\\local\\packages\\pythonsoftwarefoundation.python.3.10_qbz5n2kfra8p0\\localcache\\local-packages\\python310\\site-packages (from matplotlib) (3.0.9)\n",
      "Requirement already satisfied: kiwisolver>=1.0.1 in c:\\users\\konh\\appdata\\local\\packages\\pythonsoftwarefoundation.python.3.10_qbz5n2kfra8p0\\localcache\\local-packages\\python310\\site-packages (from matplotlib) (1.4.4)\n",
      "Requirement already satisfied: pillow>=6.2.0 in c:\\users\\konh\\appdata\\local\\packages\\pythonsoftwarefoundation.python.3.10_qbz5n2kfra8p0\\localcache\\local-packages\\python310\\site-packages (from matplotlib) (9.4.0)\n",
      "Requirement already satisfied: cycler>=0.10 in c:\\users\\konh\\appdata\\local\\packages\\pythonsoftwarefoundation.python.3.10_qbz5n2kfra8p0\\localcache\\local-packages\\python310\\site-packages (from matplotlib) (0.11.0)\n",
      "Requirement already satisfied: six>=1.5 in c:\\users\\konh\\appdata\\local\\packages\\pythonsoftwarefoundation.python.3.10_qbz5n2kfra8p0\\localcache\\local-packages\\python310\\site-packages (from python-dateutil>=2.7->matplotlib) (1.16.0)\n"
     ]
    }
   ],
   "source": [
    "!pip install matplotlib"
   ]
  },
  {
   "cell_type": "code",
   "execution_count": 10,
   "id": "35f274ac",
   "metadata": {},
   "outputs": [
    {
     "data": {
      "image/png": "[encoded data removed]",
      "text/plain": [
       "<Figure size 640x480 with 1 Axes>"
      ]
     },
     "metadata": {},
     "output_type": "display_data"
    }
   ],
   "source": [
    "import matplotlib.pyplot\n",
    "\n",
    "values = data['Your Rating']\n",
    "matplotlib.pyplot.hist(values, label='My rating')\n",
    "matplotlib.pyplot.legend()\n",
    "\n",
    "None"
   ]
  },
  {
   "cell_type": "code",
   "execution_count": 11,
   "id": "03e91294",
   "metadata": {},
   "outputs": [
    {
     "data": {
      "image/png": "[encoded data removed]",
      "text/plain": [
       "<Figure size 640x480 with 1 Axes>"
      ]
     },
     "metadata": {},
     "output_type": "display_data"
    }
   ],
   "source": [
    "data['your_rated_year'] = data.apply (lambda row: dateutil.parser.parse(row[date_rated_index]).year, axis=1)\n",
    "values = data['your_rated_year']\n",
    "matplotlib.pyplot.hist(values, label='Year Rated', bins=15)\n",
    "matplotlib.pyplot.legend()\n",
    "\n",
    "None"
   ]
  },
  {
   "cell_type": "code",
   "execution_count": 12,
   "id": "90c0e99d",
   "metadata": {},
   "outputs": [
    {
     "data": {
      "image/png": "[encoded data removed]",
      "text/plain": [
       "<Figure size 640x480 with 1 Axes>"
      ]
     },
     "metadata": {},
     "output_type": "display_data"
    }
   ],
   "source": [
    "data_2012 = data.copy()\n",
    "data_2012 = data_2012[data_2012['your_rated_year'] == 2012]\n",
    "data_2012['your_rated_month'] = data_2012.apply (lambda row: dateutil.parser.parse(row[date_rated_index]).month, axis=1)\n",
    "values = data_2012['your_rated_month']\n",
    "matplotlib.pyplot.hist(values, label='Month Rated (2012)', bins=12)\n",
    "matplotlib.pyplot.legend()\n",
    "\n",
    "None"
   ]
  },
  {
   "cell_type": "code",
   "execution_count": 13,
   "id": "b08a9359",
   "metadata": {},
   "outputs": [
    {
     "data": {
      "image/png": "[encoded data removed]",
      "text/plain": [
       "<Figure size 640x480 with 1 Axes>"
      ]
     },
     "metadata": {},
     "output_type": "display_data"
    }
   ],
   "source": [
    "values = data['Year']\n",
    "matplotlib.pyplot.hist(values, label='Release Year', bins=30)\n",
    "matplotlib.pyplot.legend()\n",
    "\n",
    "None"
   ]
  },
  {
   "cell_type": "code",
   "execution_count": 43,
   "id": "96ef6090",
   "metadata": {},
   "outputs": [
    {
     "data": {
      "text/markdown": [
       "\n",
       "**Genres (sorted by count) and top movie in each**:\n",
       "  - **Drama** (482, avg. rating = 7.18)\n",
       "    - **The Godfather** (1972, iMDB = 9.2, me = 10)\n",
       "  - **Action** (402, avg. rating = 6.79)\n",
       "    - **The Lord of the Rings: The Return of the King** (2003, iMDB = 9.0, me = 10)\n",
       "  - **Thriller** (346, avg. rating = 6.63)\n",
       "    - **The Dark Knight** (2008, iMDB = 9.0, me = 10)\n",
       "  - **Sci-Fi** (341, avg. rating = 6.78)\n",
       "    - **Inception** (2010, iMDB = 8.8, me = 10)\n",
       "  - **Adventure** (293, avg. rating = 6.86)\n",
       "    - **The Lord of the Rings: The Return of the King** (2003, iMDB = 9.0, me = 10)\n",
       "  - **Comedy** (221, avg. rating = 6.82)\n",
       "    - **Sobache serdtse** (1988, iMDB = 8.6, me = 10)\n",
       "  - **Fantasy** (188, avg. rating = 7.0)\n",
       "    - **The Lord of the Rings: The Return of the King** (2003, iMDB = 9.0, me = 10)\n",
       "  - **Crime** (177, avg. rating = 7.15)\n",
       "    - **The Godfather** (1972, iMDB = 9.2, me = 10)\n",
       "  - **Horror** (160, avg. rating = 6.46)\n",
       "    - **El espinazo del diablo** (2001, iMDB = 7.4, me = 10)\n",
       "  - **Mystery** (149, avg. rating = 6.79)\n",
       "    - **The Green Mile** (1999, iMDB = 8.6, me = 10)\n",
       "  - **Romance** (76, avg. rating = 6.82)\n",
       "    - **Scott Pilgrim vs. the World** (2010, iMDB = 7.5, me = 10)\n",
       "  - **Family** (65, avg. rating = 6.6)\n",
       "    - **WALL·E** (2008, iMDB = 8.4, me = 10)\n",
       "  - **Music** (55, avg. rating = 7.6)\n",
       "    - **Foo Fighters: Back and Forth** (2011, iMDB = 8.2, me = 10)\n",
       "  - **Biography** (54, avg. rating = 7.2)\n",
       "    - **Into the Wild** (2007, iMDB = 8.1, me = 10)\n",
       "  - **War** (48, avg. rating = 7.12)\n",
       "    - **Paths of Glory** (1957, iMDB = 8.4, me = 10)\n",
       "  - **Animation** (44, avg. rating = 7.18)\n",
       "    - **WALL·E** (2008, iMDB = 8.4, me = 10)\n",
       "  - **History** (26, avg. rating = 6.88)\n",
       "    - **Nixon** (1995, iMDB = 7.1, me = 10)\n",
       "  - **Documentary** (23, avg. rating = 7.78)\n",
       "    - **Foo Fighters: Back and Forth** (2011, iMDB = 8.2, me = 10)\n",
       "  - **Western** (18, avg. rating = 7.39)\n",
       "    - **Django Unchained** (2012, iMDB = 8.4, me = 10)\n",
       "  - **Musical** (16, avg. rating = 7.62)\n",
       "    - **Sweeney Todd: The Demon Barber of Fleet Street** (2007, iMDB = 7.3, me = 10)\n",
       "  - **Short** (8, avg. rating = 7.38)\n",
       "    - **Music for One Apartment and Six Drummers** (2001, iMDB = 7.9, me = 10)\n",
       "  - **Sport** (4, avg. rating = 5.0)\n",
       "    - **The Wrestler** (2008, iMDB = 7.9, me = 7)\n",
       "  - **Film-Noir** (4, avg. rating = 8.0)\n",
       "    - **The Killing** (1956, iMDB = 7.9, me = 9)"
      ],
      "text/plain": [
       "<IPython.core.display.Markdown object>"
      ]
     },
     "metadata": {},
     "output_type": "display_data"
    }
   ],
   "source": [
    "genres = set()\n",
    "\n",
    "for genres_str in data['Genres']:\n",
    "    genres_list = genres_str.split(',')\n",
    "    for genre in genres_list:\n",
    "        genres.add(genre.strip())\n",
    "\n",
    "genre_movies = dict()\n",
    "    \n",
    "for genre in genres:\n",
    "    cur_genre_movies = data.copy()\n",
    "    cur_genre_movies['contains_genre'] = cur_genre_movies.apply (lambda row: genre in row[genres_index], axis=1)\n",
    "    cur_genre_movies = cur_genre_movies[cur_genre_movies['contains_genre'] == True]\n",
    "    avg_genre_rating = round(cur_genre_movies['Your Rating'].mean(), 2)\n",
    "    count = len(cur_genre_movies)\n",
    "    top_movie_entry = cur_genre_movies.sort_values(['Your Rating', 'IMDb Rating'], ascending=False).head(1).values[0]\n",
    "    top_title = top_movie_entry[title_index]\n",
    "    top_year = dateutil.parser.parse(top_movie_entry[release_date_index]).year\n",
    "    top_imdb = top_movie_entry[imdb_rating_index]\n",
    "    top_my_rating = top_movie_entry[your_rating_index]\n",
    "    top_movie_str = f'**{top_title}** ({top_year}, iMDB = {top_imdb}, me = {top_my_rating})'\n",
    "    summary = {\n",
    "        'count': count,\n",
    "        'rating': avg_genre_rating,\n",
    "        'top_movie': top_movie_str\n",
    "    }\n",
    "    genre_movies[genre] = summary\n",
    "\n",
    "top_genre_movies = dict(sorted(genre_movies.items(), key=lambda x: x[1]['count'], reverse=True))\n",
    "\n",
    "w = Writer()\n",
    "w.add_header('Genres (sorted by count) and top movie in each')\n",
    "for genre in top_genre_movies:\n",
    "    gm = genre_movies[genre]\n",
    "    count = gm['count']\n",
    "    rating = gm['rating']\n",
    "    w.add_unordered_item(f'**{genre}** ({count}, avg. rating = {rating})')\n",
    "    top_movie = gm['top_movie']\n",
    "    w.add(f'    - {top_movie}')\n",
    "w.write()"
   ]
  },
  {
   "cell_type": "code",
   "execution_count": 44,
   "id": "df24b6f7",
   "metadata": {},
   "outputs": [
    {
     "data": {
      "text/markdown": [
       "\n",
       "**Directors (6+ movies) and their top movie (sorted by count)**:\n",
       "  - **Quentin Tarantino** (10, avg. rating = 8.8)\n",
       "    - **Pulp Fiction** (1994, iMDB = 8.9, me = 10)\n",
       "  - **Peter Jackson** (8, avg. rating = 8.75)\n",
       "    - **The Lord of the Rings: The Return of the King** (2003, iMDB = 9.0, me = 10)\n",
       "  - **Christopher Nolan** (10, avg. rating = 8.5)\n",
       "    - **The Dark Knight** (2008, iMDB = 9.0, me = 10)\n",
       "  - **Stanley Kubrick** (12, avg. rating = 8.42)\n",
       "    - **Paths of Glory** (1957, iMDB = 8.4, me = 10)\n",
       "  - **Zack Snyder** (9, avg. rating = 8.22)\n",
       "    - **Watchmen** (2009, iMDB = 7.6, me = 10)\n",
       "  - **Guillermo del Toro** (9, avg. rating = 8.22)\n",
       "    - **El laberinto del fauno** (2006, iMDB = 8.2, me = 10)\n",
       "  - **Ridley Scott** (9, avg. rating = 8.11)\n",
       "    - **Blade Runner** (1982, iMDB = 8.1, me = 10)\n",
       "  - **Oliver Stone** (6, avg. rating = 7.83)\n",
       "    - **Natural Born Killers** (1994, iMDB = 7.2, me = 10)\n",
       "  - **David Fincher** (6, avg. rating = 7.83)\n",
       "    - **Se7en** (1995, iMDB = 8.6, me = 9)\n",
       "  - **Guy Ritchie** (11, avg. rating = 7.82)\n",
       "    - **Sherlock Holmes** (2009, iMDB = 7.6, me = 10)\n",
       "  - **Robert Rodriguez** (7, avg. rating = 7.71)\n",
       "    - **Sin City** (2005, iMDB = 8.0, me = 10)\n",
       "  - **Steven Spielberg** (7, avg. rating = 7.71)\n",
       "    - **E.T. the Extra-Terrestrial** (1982, iMDB = 7.9, me = 9)\n",
       "  - **Aleksey Balabanov** (7, avg. rating = 7.57)\n",
       "    - **Morfiy** (2008, iMDB = 7.2, me = 9)\n",
       "  - **Danny Boyle** (6, avg. rating = 7.5)\n",
       "    - **National Theatre Live: Frankenstein** (2011, iMDB = 8.6, me = 10)\n",
       "  - **David Yates** (7, avg. rating = 7.43)\n",
       "    - **Harry Potter and the Deathly Hallows: Part 2** (2011, iMDB = 8.1, me = 8)\n",
       "  - **Lana Wachowski** (6, avg. rating = 7.33)\n",
       "    - **The Matrix** (1999, iMDB = 8.7, me = 9)\n",
       "  - **Tim Burton** (9, avg. rating = 7.22)\n",
       "    - **Sweeney Todd: The Demon Barber of Fleet Street** (2007, iMDB = 7.3, me = 10)\n",
       "  - **Sam Raimi** (6, avg. rating = 6.67)\n",
       "    - **Doctor Strange in the Multiverse of Madness** (2022, iMDB = 6.9, me = 8)\n",
       "  - **John Carpenter** (8, avg. rating = 6.0)\n",
       "    - **The Thing** (1982, iMDB = 8.2, me = 8)\n",
       "  - **Bryan Singer** (6, avg. rating = 5.83)\n",
       "    - **X-Men: Days of Future Past** (2014, iMDB = 7.9, me = 7)\n",
       "  - **Michael Bay** (6, avg. rating = 4.83)\n",
       "    - **Transformers** (2007, iMDB = 7.0, me = 8)\n",
       "  - **Paul W.S. Anderson** (6, avg. rating = 4.5)\n",
       "    - **Mortal Kombat** (1995, iMDB = 5.8, me = 7)"
      ],
      "text/plain": [
       "<IPython.core.display.Markdown object>"
      ]
     },
     "metadata": {},
     "output_type": "display_data"
    }
   ],
   "source": [
    "directors = set()\n",
    "\n",
    "for directors_str in data['Directors']:\n",
    "    if not isinstance(directors_str, str):\n",
    "        continue\n",
    "    directors_list = directors_str.split(',')\n",
    "    for director in directors_list:\n",
    "        directors.add(director.strip())\n",
    "\n",
    "director_movies = dict()\n",
    "    \n",
    "for director in directors:\n",
    "    cur_director_movies = data.copy()\n",
    "    cur_director_movies['contains_director'] = cur_director_movies.apply (lambda row: isinstance(row[directors_index], str) and director in row[directors_index], axis=1)\n",
    "    cur_director_movies = cur_director_movies[cur_director_movies['contains_director'] == True]\n",
    "    avg_director_rating = round(cur_director_movies['Your Rating'].mean(), 2)\n",
    "    count = len(cur_director_movies)\n",
    "    if count < 6:\n",
    "        continue\n",
    "    top_movie_entry = cur_director_movies.sort_values(['Your Rating', 'IMDb Rating'], ascending=False).head(1).values[0]\n",
    "    top_title = top_movie_entry[title_index]\n",
    "    try:\n",
    "        top_year = dateutil.parser.parse(top_movie_entry[release_date_index]).year\n",
    "    except:\n",
    "        top_year = '?'\n",
    "    top_imdb = top_movie_entry[imdb_rating_index]\n",
    "    top_my_rating = top_movie_entry[your_rating_index]\n",
    "    top_movie_str = f'**{top_title}** ({top_year}, iMDB = {top_imdb}, me = {top_my_rating})'\n",
    "    summary = {\n",
    "        'count': count,\n",
    "        'rating': avg_director_rating,\n",
    "        'top_movie': top_movie_str\n",
    "    }\n",
    "    director_movies[director] = summary\n",
    "\n",
    "top_director_movies = dict(sorted(director_movies.items(), key=lambda x: x[1]['rating'], reverse=True))\n",
    "\n",
    "w = Writer()\n",
    "w.add_header('Directors (6+ movies) and their top movie (sorted by count)')\n",
    "for director in top_director_movies:\n",
    "    dm = director_movies[director]\n",
    "    count = dm['count']\n",
    "    rating = dm['rating']\n",
    "    w.add_unordered_item(f'**{director}** ({count}, avg. rating = {rating})')\n",
    "    top_movie = dm['top_movie']\n",
    "    w.add(f'    - {top_movie}')\n",
    "w.write()\n"
   ]
  },
  {
   "cell_type": "code",
   "execution_count": null,
   "id": "8c07709a",
   "metadata": {},
   "outputs": [],
   "source": []
  }
 ],
 "metadata": {
  "kernelspec": {
   "display_name": "Python 3 (ipykernel)",
   "language": "python",
   "name": "python3"
  },
  "language_info": {
   "codemirror_mode": {
    "name": "ipython",
    "version": 3
   },
   "file_extension": ".py",
   "mimetype": "text/x-python",
   "name": "python",
   "nbconvert_exporter": "python",
   "pygments_lexer": "ipython3",
   "version": "3.10.10"
  }
 },
 "nbformat": 4,
 "nbformat_minor": 5
}
